{
  "nbformat": 4,
  "nbformat_minor": 0,
  "metadata": {
    "colab": {
      "name": "Q* Learning with FrozenLake.ipynb",
      "version": "0.3.2",
      "provenance": []
    },
    "kernelspec": {
      "name": "python3",
      "display_name": "Python 3"
    },
    "accelerator": "GPU"
  },
  "cells": [
    {
      "cell_type": "markdown",
      "metadata": {
        "id": "5aQKQMJTJBPH",
        "colab_type": "text"
      },
      "source": [
        "# Q* Learning with FrozenLake 4x4 \n",
        "\n",
        "This Notebook implements an agent to learn FrozenLake, using Q Learning.</b>\n",
        "\n",
        "\n",
        "![alt text](http://simoninithomas.com/drlc/Qlearning/frozenlake4x4.png)\n",
        "\n",
        "The goal of this game is <b>to go from the starting state (S) to the goal state (G)</b> by walking only on frozen tiles (F) and avoid holes (H). However, the ice is slippery, **so you won't always move in the direction you intend (stochastic environment)**"
      ]
    },
    {
      "cell_type": "code",
      "metadata": {
        "id": "Gm1IrvH2YDhA",
        "colab_type": "code",
        "colab": {}
      },
      "source": [
        "!pip install numpy\n",
        "!pip install openai-gym\n",
        "!apt-get install -y xvfb python-opengl > /dev/null 2>&1\n",
        "!pip install gym pyvirtualdisplay > /dev/null 2>&1"
      ],
      "execution_count": 0,
      "outputs": []
    },
    {
      "cell_type": "markdown",
      "metadata": {
        "id": "G9qH33L_QoBk",
        "colab_type": "text"
      },
      "source": [
        "## Step 0: Import the dependencies 📚\n",
        "We use 3 libraries:\n",
        "- `Numpy` for our Qtable\n",
        "- `OpenAI Gym` for our FrozenLake Environment\n",
        "- `Random` to generate random numbers"
      ]
    },
    {
      "cell_type": "code",
      "metadata": {
        "id": "oU8zRXv8QHlm",
        "colab_type": "code",
        "colab": {}
      },
      "source": [
        "import gym\n",
        "import numpy as np\n",
        "import matplotlib.pyplot as plt\n",
        "from IPython import display as ipythondisplay\n",
        "import random"
      ],
      "execution_count": 0,
      "outputs": []
    },
    {
      "cell_type": "markdown",
      "metadata": {
        "id": "0fz-X3HTQueX",
        "colab_type": "text"
      },
      "source": [
        "## Step 1: Create the environment 🎮\n",
        "- Here we'll create the FrozenLake 8x8 environment. \n",
        "- OpenAI Gym is a library <b> composed of many environments that we can use to train our agents.</b>\n",
        "- In our case we choose to use Frozen Lake."
      ]
    },
    {
      "cell_type": "code",
      "metadata": {
        "id": "mh9jBR_cQ5_a",
        "colab_type": "code",
        "colab": {}
      },
      "source": [
        "env = gym.make(\"FrozenLake-v0\")"
      ],
      "execution_count": 0,
      "outputs": []
    },
    {
      "cell_type": "markdown",
      "metadata": {
        "id": "JEtXMldxQ7uw",
        "colab_type": "text"
      },
      "source": [
        "## Step 2: Create the Q-table and initialize it 🗄️\n",
        "- Now, we'll create our Q-table, to know how much rows (states) and columns (actions) we need, we need to calculate the action_size and the state_size\n",
        "- OpenAI Gym provides us a way to do that: `env.action_space.n` and `env.observation_space.n`"
      ]
    },
    {
      "cell_type": "code",
      "metadata": {
        "id": "Uc0xDVd_Q-C8",
        "colab_type": "code",
        "colab": {}
      },
      "source": [
        "action_size = env.action_space.n\n",
        "state_size = env.observation_space.n"
      ],
      "execution_count": 0,
      "outputs": []
    },
    {
      "cell_type": "code",
      "metadata": {
        "id": "FKEDj49WQehs",
        "colab_type": "code",
        "colab": {
          "base_uri": "https://localhost:8080/",
          "height": 289
        },
        "outputId": "5432b693-67e8-4d5c-a184-75e60efda96d"
      },
      "source": [
        "qtable = np.zeros((state_size, action_size))\n",
        "print(qtable) #Will act as a cheat sheet of policies for our agent"
      ],
      "execution_count": 5,
      "outputs": [
        {
          "output_type": "stream",
          "text": [
            "[[0. 0. 0. 0.]\n",
            " [0. 0. 0. 0.]\n",
            " [0. 0. 0. 0.]\n",
            " [0. 0. 0. 0.]\n",
            " [0. 0. 0. 0.]\n",
            " [0. 0. 0. 0.]\n",
            " [0. 0. 0. 0.]\n",
            " [0. 0. 0. 0.]\n",
            " [0. 0. 0. 0.]\n",
            " [0. 0. 0. 0.]\n",
            " [0. 0. 0. 0.]\n",
            " [0. 0. 0. 0.]\n",
            " [0. 0. 0. 0.]\n",
            " [0. 0. 0. 0.]\n",
            " [0. 0. 0. 0.]\n",
            " [0. 0. 0. 0.]]\n"
          ],
          "name": "stdout"
        }
      ]
    },
    {
      "cell_type": "markdown",
      "metadata": {
        "id": "qQi5ocqoQsid",
        "colab_type": "text"
      },
      "source": [
        "## Step 3: Tune the hyperparameters ⚙️\n"
      ]
    },
    {
      "cell_type": "code",
      "metadata": {
        "id": "KSciohApQtVy",
        "colab_type": "code",
        "colab": {}
      },
      "source": [
        "total_episodes = 20000        # Total episodes\n",
        "learning_rate = 0.5           # Learning rate\n",
        "max_steps = 100               # Max steps per episode\n",
        "gamma = 0.99                  # Discounting rate\n",
        "\n",
        "# Exploration parameters\n",
        "epsilon = 1.0                 # Exploration rate\n",
        "max_epsilon = 1.0             # Exploration probability at start\n",
        "min_epsilon = 0.001            # Minimum exploration probability \n",
        "decay_rate = 0.005             # Exponential decay rate for exploration prob"
      ],
      "execution_count": 0,
      "outputs": []
    },
    {
      "cell_type": "markdown",
      "metadata": {
        "id": "ajTOr_EbQ0if",
        "colab_type": "text"
      },
      "source": [
        "## Step 4: The Q learning algorithm 🧠"
      ]
    },
    {
      "cell_type": "code",
      "metadata": {
        "id": "t6eZxeflQ2hh",
        "colab_type": "code",
        "colab": {
          "base_uri": "https://localhost:8080/",
          "height": 306
        },
        "outputId": "8430606d-9a0d-4d49-fb44-27be78e5ee56"
      },
      "source": [
        "# List of rewards\n",
        "rewards = []\n",
        "\n",
        "# 2 For life or until learning is stopped\n",
        "for episode in range(total_episodes):\n",
        "    # Reset the environment\n",
        "    state = env.reset()\n",
        "    step = 0\n",
        "    done = False\n",
        "    total_rewards = 0\n",
        "    \n",
        "    for step in range(max_steps):\n",
        "        # 3. Choose an action a in the current world state (s)\n",
        "        ## First we randomize a number\n",
        "        exp_exp_tradeoff = random.uniform(0, 1)\n",
        "        \n",
        "        ## If this number > greater than epsilon --> exploitation (taking the biggest Q value for this state)\n",
        "        if exp_exp_tradeoff > epsilon:\n",
        "            action = np.argmax(qtable[state,:])\n",
        "\n",
        "        # Else doing a random choice --> exploration\n",
        "        else:\n",
        "            action = env.action_space.sample()\n",
        "\n",
        "        # Take the action (a) and observe the outcome state(s') and reward (r)\n",
        "        new_state, reward, done, info = env.step(action)\n",
        "\n",
        "        # Update Q(s,a):= Q(s,a) + lr [R(s,a) + gamma * max Q(s',a') - Q(s,a)]\n",
        "        # qtable[new_state,:] : all the actions we can take from new state\n",
        "        qtable[state, action] = qtable[state, action] + learning_rate * (reward + gamma * np.max(qtable[new_state, :]) - qtable[state, action])\n",
        "        \n",
        "        total_rewards += reward\n",
        "        \n",
        "        # Our new state is state\n",
        "        state = new_state\n",
        "        \n",
        "        # If done (if we're dead) : finish episode\n",
        "        if done == True: \n",
        "            break\n",
        "        \n",
        "    # Reduce epsilon (because we need less and less exploration)\n",
        "    epsilon = min_epsilon + (max_epsilon - min_epsilon)*np.exp(-decay_rate*episode) \n",
        "    rewards.append(total_rewards)\n",
        "\n",
        "print (\"Score over time: {}\".format(str(sum(rewards)/total_episodes)))\n",
        "print(qtable)"
      ],
      "execution_count": 35,
      "outputs": [
        {
          "output_type": "stream",
          "text": [
            "Score over time: 0.6852\n",
            "[[5.33965258e-01 2.81702313e-01 3.83524125e-01 2.85587143e-01]\n",
            " [1.50048556e-01 2.71590306e-02 8.72494702e-02 4.55230406e-01]\n",
            " [2.37883060e-01 2.09458799e-01 1.70000485e-01 4.05241500e-01]\n",
            " [1.23239481e-01 1.26594053e-01 7.77405157e-02 3.55530447e-01]\n",
            " [5.67042307e-01 3.69497326e-01 2.54413729e-01 2.33804703e-01]\n",
            " [0.00000000e+00 0.00000000e+00 0.00000000e+00 0.00000000e+00]\n",
            " [4.42743778e-01 1.97706757e-03 2.31186745e-03 3.59511209e-04]\n",
            " [0.00000000e+00 0.00000000e+00 0.00000000e+00 0.00000000e+00]\n",
            " [1.38849031e-01 3.77562417e-01 1.25580878e-01 6.15744794e-01]\n",
            " [4.82917987e-02 7.32471852e-01 1.97727709e-01 1.76305069e-01]\n",
            " [6.37948394e-01 6.28746116e-02 7.36387536e-03 3.46278633e-02]\n",
            " [0.00000000e+00 0.00000000e+00 0.00000000e+00 0.00000000e+00]\n",
            " [0.00000000e+00 0.00000000e+00 0.00000000e+00 0.00000000e+00]\n",
            " [2.62456053e-01 3.21070703e-01 8.61392473e-01 2.45915037e-01]\n",
            " [5.25938643e-01 9.58935311e-01 4.81943470e-01 5.23380592e-01]\n",
            " [0.00000000e+00 0.00000000e+00 0.00000000e+00 0.00000000e+00]]\n"
          ],
          "name": "stdout"
        }
      ]
    },
    {
      "cell_type": "code",
      "metadata": {
        "id": "ajjRwNSoQ6bg",
        "colab_type": "code",
        "colab": {
          "base_uri": "https://localhost:8080/",
          "height": 1377
        },
        "outputId": "d40dab1b-94c7-44b4-f4a1-3de0cbe79418"
      },
      "source": [
        "env.reset()\n",
        "\n",
        "for episode in range(10):\n",
        "    state = env.reset()\n",
        "    step = 0\n",
        "    done = False\n",
        "    print(\"****************************************************\")\n",
        "    print(\"EPISODE \", episode)\n",
        "\n",
        "    for step in range(max_steps):\n",
        "        \n",
        "        # Take the action (index) that have the maximum expected future reward given that state\n",
        "        action = np.argmax(qtable[state,:])\n",
        "        \n",
        "        new_state, reward, done, info = env.step(action)\n",
        "        \n",
        "        if done:\n",
        "            # Here, we decide to only print the last state (to see if our agent is on the goal or fall into an hole)\n",
        "            env.render()\n",
        "            \n",
        "            # We print the number of step it took.\n",
        "            print(\"Number of steps\", step)\n",
        "            break\n",
        "        state = new_state\n",
        "env.close()"
      ],
      "execution_count": 36,
      "outputs": [
        {
          "output_type": "stream",
          "text": [
            "****************************************************\n",
            "EPISODE  0\n",
            "  (Left)\n",
            "SFFF\n",
            "F\u001b[41mH\u001b[0mFH\n",
            "FFFH\n",
            "HFFG\n",
            "Number of steps 30\n",
            "****************************************************\n",
            "EPISODE  1\n",
            "  (Left)\n",
            "SFFF\n",
            "F\u001b[41mH\u001b[0mFH\n",
            "FFFH\n",
            "HFFG\n",
            "Number of steps 44\n",
            "****************************************************\n",
            "EPISODE  2\n",
            "  (Down)\n",
            "SFFF\n",
            "FHFH\n",
            "FFFH\n",
            "HFF\u001b[41mG\u001b[0m\n",
            "Number of steps 27\n",
            "****************************************************\n",
            "EPISODE  3\n",
            "  (Down)\n",
            "SFFF\n",
            "FHFH\n",
            "FFFH\n",
            "HFF\u001b[41mG\u001b[0m\n",
            "Number of steps 29\n",
            "****************************************************\n",
            "EPISODE  4\n",
            "  (Down)\n",
            "SFFF\n",
            "FHFH\n",
            "FFFH\n",
            "HFF\u001b[41mG\u001b[0m\n",
            "Number of steps 19\n",
            "****************************************************\n",
            "EPISODE  5\n",
            "  (Down)\n",
            "SFFF\n",
            "FHFH\n",
            "FFFH\n",
            "HFF\u001b[41mG\u001b[0m\n",
            "Number of steps 47\n",
            "****************************************************\n",
            "EPISODE  6\n",
            "  (Down)\n",
            "SFFF\n",
            "FHFH\n",
            "FFFH\n",
            "HFF\u001b[41mG\u001b[0m\n",
            "Number of steps 9\n",
            "****************************************************\n",
            "EPISODE  7\n",
            "  (Down)\n",
            "SFFF\n",
            "FHFH\n",
            "FFFH\n",
            "HFF\u001b[41mG\u001b[0m\n",
            "Number of steps 74\n",
            "****************************************************\n",
            "EPISODE  8\n",
            "  (Down)\n",
            "SFFF\n",
            "FHFH\n",
            "FFFH\n",
            "HFF\u001b[41mG\u001b[0m\n",
            "Number of steps 10\n",
            "****************************************************\n",
            "EPISODE  9\n",
            "  (Down)\n",
            "SFFF\n",
            "FHFH\n",
            "FFFH\n",
            "HFF\u001b[41mG\u001b[0m\n",
            "Number of steps 15\n"
          ],
          "name": "stdout"
        }
      ]
    },
    {
      "cell_type": "markdown",
      "metadata": {
        "id": "lpHJAvrYVjie",
        "colab_type": "text"
      },
      "source": [
        "## Success Rate: 80%"
      ]
    }
  ]
}